{
 "cells": [
  {
   "cell_type": "markdown",
   "metadata": {},
   "source": [
    "# Test OVH storage"
   ]
  },
  {
   "cell_type": "code",
   "execution_count": 2,
   "metadata": {},
   "outputs": [],
   "source": [
    "# default_exp datasets"
   ]
  },
  {
   "cell_type": "markdown",
   "metadata": {},
   "source": [
    "## Module Installation"
   ]
  },
  {
   "cell_type": "code",
   "execution_count": 1,
   "metadata": {},
   "outputs": [],
   "source": [
    "#!pip install --user python-swiftclient python-keystoneclient --upgrade\n",
    "#!pip install nbdev"
   ]
  },
  {
   "cell_type": "markdown",
   "metadata": {},
   "source": [
    "## Class Datasets\n",
    "Using a config file for credentials"
   ]
  },
  {
   "cell_type": "code",
   "execution_count": 21,
   "metadata": {},
   "outputs": [],
   "source": [
    "#export\n",
    "import swiftclient\n",
    "import json\n",
    "import glob\n",
    "import os\n",
    "#from tqdm import tqdm_notebook as tqdm\n",
    "from tqdm import tqdm\n",
    "\n",
    "class Datasets:\n",
    "    \"\"\"\n",
    "    Utility class to access the Open Stack Swift storage of the project.\n",
    "    \"\"\"\n",
    "    config = None # Dict configuration\n",
    "    conn = None # swiftclient.Connection object\n",
    "    container_name = 'oco2'\n",
    "    \n",
    "    def __init__(self, config_file):\n",
    "        \"\"\"\n",
    "        Constructor\n",
    "        :param config_file: str, Path to config file\n",
    "        :return:\n",
    "        \"\"\"\n",
    "        # Load config\n",
    "        with open(config_file) as json_data_file:\n",
    "            self.config = json.load(json_data_file)\n",
    "        self.conn = self.swift_con()\n",
    "\n",
    "#print(config['swift_storage']['user'])\n",
    "\n",
    "    def swift_con(self, config=None):\n",
    "        if config is None:\n",
    "            config = self.config\n",
    "        user=config['swift_storage']['user']\n",
    "        key=config['swift_storage']['key']\n",
    "        auth_url=config['swift_storage']['auth_url']\n",
    "        tenant_name=config['swift_storage']['tenant_name']\n",
    "        auth_version=config['swift_storage']['auth_version']\n",
    "        options = config['swift_storage']['options']\n",
    "        self.conn = swiftclient.Connection(user=user,\n",
    "                                      key=key,\n",
    "                                      authurl=auth_url,\n",
    "                                      os_options=options,\n",
    "                                      tenant_name=tenant_name,\n",
    "                                      auth_version=auth_version)\n",
    "        return self.conn\n",
    "\n",
    "\n",
    "\n",
    "    def upload(self, mask='c:\\datasets\\*.csv', prefix=\"/Trash/\",content_type='text/csv', recursive=False):\n",
    "        for file in tqdm(glob.glob(mask, recursive=recursive)):\n",
    "            with open(file, 'rb') as one_file:\n",
    "                    upload_to = prefix+ os.path.basename(file)\n",
    "                    #print('Copy from',file,'to',upload_to)\n",
    "                    self.conn.put_object(self.container_name, upload_to,\n",
    "                                                    contents= one_file.read(),\n",
    "                                                    content_type=content_type) # 'text/csv'\n",
    "    def get_files_urls(self, pattern=\"\"):\n",
    "        result=[]\n",
    "        objects = self.conn.get_container(self.container_name)[1]\n",
    "        for data in objects:\n",
    "            if pattern in data['name']:\n",
    "                url = self.config['swift_storage']['base_url']+data['name']\n",
    "                result.append(url)\n",
    "        return result\n",
    "\n",
    "    def delete_files(self, pattern=\"pattern_to_delete\", dry_run=True):\n",
    "        for data in tqdm(self.conn.get_container(self.container_name)[1]):\n",
    "            file = data['name']\n",
    "            if 'peaks-detected' in file:\n",
    "                #print('delete', file)\n",
    "                if not dry_run:\n",
    "                    self.conn.delete_object(self.container_name, file)\n",
    "    def get_containers(self):\n",
    "        return self.conn.get_account()[1]"
   ]
  },
  {
   "cell_type": "markdown",
   "metadata": {},
   "source": [
    "# Examples"
   ]
  },
  {
   "cell_type": "code",
   "execution_count": 22,
   "metadata": {},
   "outputs": [
    {
     "name": "stdout",
     "output_type": "stream",
     "text": [
      "oco2\n"
     ]
    }
   ],
   "source": [
    "config = '../configs/config.json'\n",
    "datasets = Datasets(config)\n",
    "datasets.get_files_urls('html')\n"
   ]
  },
  {
   "cell_type": "code",
   "execution_count": 24,
   "metadata": {},
   "outputs": [
    {
     "name": "stdout",
     "output_type": "stream",
     "text": [
      "Container name: oco2\n"
     ]
    }
   ],
   "source": [
    "for container in datasets.get_containers():\n",
    "    print('Container name:', container['name'])"
   ]
  },
  {
   "cell_type": "markdown",
   "metadata": {},
   "source": [
    "## List files"
   ]
  },
  {
   "cell_type": "code",
   "execution_count": null,
   "metadata": {},
   "outputs": [],
   "source": [
    "for container in conn.get_account()[1]:\n",
    "    container_name = container['name']\n",
    "    print('container_name:', container_name)\n",
    "objects = conn.get_container(container_name)[1]\n",
    "for data in objects:\n",
    "    if 'oco2_1504' in data['name']:\n",
    "        print('{0}\\t{1}\\t{2}'.format(data['name'], data['bytes'], data['last_modified']))\n"
   ]
  },
  {
   "cell_type": "markdown",
   "metadata": {},
   "source": [
    "## Upload files"
   ]
  },
  {
   "cell_type": "code",
   "execution_count": null,
   "metadata": {},
   "outputs": [
    {
     "data": {
      "application/vnd.jupyter.widget-view+json": {
       "model_id": "e9aa2f8d6e8a4d19a70d1df91b569507",
       "version_major": 2,
       "version_minor": 0
      },
      "text/plain": [
       "HBox(children=(IntProgress(value=0, max=64), HTML(value='')))"
      ]
     },
     "metadata": {},
     "output_type": "display_data"
    },
    {
     "data": {
      "application/vnd.jupyter.widget-view+json": {
       "model_id": "c3d5644b0eab49b7a07ed866e951758a",
       "version_major": 2,
       "version_minor": 0
      },
      "text/plain": [
       "HBox(children=(IntProgress(value=0, max=8132), HTML(value='')))"
      ]
     },
     "metadata": {},
     "output_type": "display_data"
    }
   ],
   "source": [
    "\n",
    "upload_to_swift(\"/media/data-nvme/dev/datasets/OCO2/csv/*.csv\", \"/datasets/oco-2/peaks-detected/\", 'text/csv')\n",
    "upload_to_swift(\"/media/data-nvme/dev/datasets/OCO2/csv/*.json\", \"/datasets/oco-2/peaks-detected-details/\", 'application/json')\n"
   ]
  },
  {
   "cell_type": "markdown",
   "metadata": {},
   "source": [
    "### Upload HTML"
   ]
  },
  {
   "cell_type": "code",
   "execution_count": 31,
   "metadata": {},
   "outputs": [
    {
     "name": "stdout",
     "output_type": "stream",
     "text": [
      "Copy from /home/ben/Downloads/peaks_and_sources.html to /map/peaks_and_sources.html\n"
     ]
    }
   ],
   "source": [
    "upload_to_swift(\"chemin/peaks_and_sources.html\", \"/map/\", 'text/html')"
   ]
  },
  {
   "cell_type": "markdown",
   "metadata": {},
   "source": [
    "## Delete files"
   ]
  },
  {
   "cell_type": "code",
   "execution_count": null,
   "metadata": {},
   "outputs": [],
   "source": [
    "container_name = 'oco2'\n",
    "for data in tqdm(conn.get_container(container_name)[1]):\n",
    "    file = data['name']\n",
    "    if 'peaks-detected' in file:\n",
    "        #print('delete', file)\n",
    "        # UNCOMMENT FOR REAL DELETE conn.delete_object(container_name, file)"
   ]
  },
  {
   "cell_type": "code",
   "execution_count": 19,
   "metadata": {},
   "outputs": [
    {
     "name": "stdout",
     "output_type": "stream",
     "text": [
      "Converted 00_core.ipynb.\n",
      "Converted swift_utils.ipynb.\n"
     ]
    }
   ],
   "source": [
    "from nbdev.export import *\n",
    "notebook2script()"
   ]
  },
  {
   "cell_type": "code",
   "execution_count": null,
   "metadata": {},
   "outputs": [],
   "source": []
  }
 ],
 "metadata": {
  "kernelspec": {
   "display_name": "Python 3",
   "language": "python",
   "name": "python3"
  },
  "language_info": {
   "codemirror_mode": {
    "name": "ipython",
    "version": 3
   },
   "file_extension": ".py",
   "mimetype": "text/x-python",
   "name": "python",
   "nbconvert_exporter": "python",
   "pygments_lexer": "ipython3",
   "version": "3.7.6"
  }
 },
 "nbformat": 4,
 "nbformat_minor": 4
}

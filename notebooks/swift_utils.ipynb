{
 "cells": [
  {
   "cell_type": "markdown",
   "metadata": {},
   "source": [
    "# Open Stack Swift storage of the project"
   ]
  },
  {
   "cell_type": "code",
   "execution_count": 28,
   "metadata": {},
   "outputs": [],
   "source": [
    "# default_exp datasets"
   ]
  },
  {
   "cell_type": "markdown",
   "metadata": {},
   "source": [
    "## Module Installation"
   ]
  },
  {
   "cell_type": "code",
   "execution_count": 2,
   "metadata": {},
   "outputs": [],
   "source": [
    "#!pip install --user python-swiftclient python-keystoneclient --upgrade\n",
    "#!pip install nbdev"
   ]
  },
  {
   "cell_type": "markdown",
   "metadata": {},
   "source": [
    "## Class Datasets\n",
    "Using a config file for credentials"
   ]
  },
  {
   "cell_type": "code",
   "execution_count": 18,
   "metadata": {},
   "outputs": [],
   "source": [
    "#export\n",
    "import swiftclient\n",
    "import json\n",
    "import glob\n",
    "import os\n",
    "#from tqdm import tqdm_notebook as tqdm\n",
    "from tqdm import tqdm\n",
    "\n",
    "class Datasets:\n",
    "    \"\"\"\n",
    "    Utility class to access the Open Stack Swift storage of the project.\n",
    "    \"\"\"\n",
    "    config = None # Dict configuration\n",
    "    conn = None # swiftclient.Connection object\n",
    "    container_name = 'oco2'\n",
    "    \n",
    "    def __init__(self, config_file):\n",
    "        \"\"\"\n",
    "        Constructor\n",
    "        :param config_file: str, Path to config file\n",
    "        :return:\n",
    "        \"\"\"\n",
    "        # Load config\n",
    "        with open(config_file) as json_data_file:\n",
    "            self.config = json.load(json_data_file)\n",
    "        self.conn = self.swift_con()\n",
    "\n",
    "    def swift_con(self, config=None):\n",
    "        \"\"\"\n",
    "        Connect to Open Stack Swift\n",
    "        :param config: dict, Config dictionary.\n",
    "        :return: swiftclient.Connection\n",
    "        \"\"\"\n",
    "        if config is None:\n",
    "            config = self.config\n",
    "        user=config['swift_storage']['user']\n",
    "        key=config['swift_storage']['key']\n",
    "        auth_url=config['swift_storage']['auth_url']\n",
    "        tenant_name=config['swift_storage']['tenant_name']\n",
    "        auth_version=config['swift_storage']['auth_version']\n",
    "        options = config['swift_storage']['options']\n",
    "        self.conn = swiftclient.Connection(user=user,\n",
    "                                      key=key,\n",
    "                                      authurl=auth_url,\n",
    "                                      os_options=options,\n",
    "                                      tenant_name=tenant_name,\n",
    "                                      auth_version=auth_version)\n",
    "        return self.conn\n",
    "\n",
    "    def upload(self, mask='c:\\datasets\\*.csv', prefix=\"/Trash/\",content_type='text/csv', recursive=False):\n",
    "        \"\"\"\n",
    "        Upload files to Open Stack Swift\n",
    "        :param mask: str, Mask for seraching file to upload.\n",
    "        :param prefix: str, Prefix in destination. Useful to mimic folders.\n",
    "        :param content_type: str, Content type on the destination.\n",
    "        :param recursive: boolean, To allow search in sub-folder.\n",
    "        :return:\n",
    "        \"\"\"\n",
    "        for file in tqdm(glob.glob(mask, recursive=recursive)):\n",
    "            with open(file, 'rb') as one_file:\n",
    "                    upload_to = prefix+ os.path.basename(file)\n",
    "                    #print('Copy from',file,'to',upload_to)\n",
    "                    self.conn.put_object(self.container_name, upload_to,\n",
    "                                                    contents= one_file.read(),\n",
    "                                                    content_type=content_type) # 'text/csv'\n",
    "    def get_files_urls(self, pattern=\"\"):\n",
    "        result=[]\n",
    "        objects = self.conn.get_container(self.container_name)[1]\n",
    "        for data in objects:\n",
    "            if pattern in data['name']:\n",
    "                url = self.config['swift_storage']['base_url']+data['name']\n",
    "                result.append(url)\n",
    "        return result\n",
    "\n",
    "    def delete_files(self, pattern=\"/Trash/\", dry_run=True):\n",
    "        if dry_run:\n",
    "            print('Nothing will be deleted. Use dry_run=False to delete.')\n",
    "        for data in self.conn.get_container(self.container_name)[1]:\n",
    "            file = data['name']\n",
    "            if pattern in file:\n",
    "                print('deleting', file)\n",
    "                if not dry_run:\n",
    "                    self.conn.delete_object(self.container_name, file)\n",
    "                   \n",
    "\n",
    "    def get_containers(self):\n",
    "        return self.conn.get_account()[1]\n",
    "    def get_container(self, container_name='oco2'):\n",
    "        return self.conn.get_container(container_name)[1]"
   ]
  },
  {
   "cell_type": "markdown",
   "metadata": {},
   "source": [
    "# Examples\n",
    "## Connection"
   ]
  },
  {
   "cell_type": "code",
   "execution_count": 19,
   "metadata": {},
   "outputs": [],
   "source": [
    "config = '../configs/config.json'\n",
    "datasets = Datasets(config)"
   ]
  },
  {
   "cell_type": "markdown",
   "metadata": {},
   "source": [
    "## Get containers names"
   ]
  },
  {
   "cell_type": "code",
   "execution_count": 20,
   "metadata": {},
   "outputs": [
    {
     "name": "stdout",
     "output_type": "stream",
     "text": [
      "Container name: oco2\n"
     ]
    }
   ],
   "source": [
    "for container in datasets.get_containers():\n",
    "    print('Container name:', container['name'])"
   ]
  },
  {
   "cell_type": "markdown",
   "metadata": {},
   "source": [
    "## List files"
   ]
  },
  {
   "cell_type": "code",
   "execution_count": 21,
   "metadata": {},
   "outputs": [
    {
     "data": {
      "text/plain": [
       "['https://storage.gra.cloud.ovh.net/v1/AUTH_2aaacef8e88a4ca897bb93b984bd04dd/oco2//map/peaks_and_sources.html']"
      ]
     },
     "execution_count": 21,
     "metadata": {},
     "output_type": "execute_result"
    }
   ],
   "source": [
    "datasets.get_files_urls('html')"
   ]
  },
  {
   "cell_type": "markdown",
   "metadata": {},
   "source": [
    "### Get files objects"
   ]
  },
  {
   "cell_type": "code",
   "execution_count": 22,
   "metadata": {},
   "outputs": [
    {
     "name": "stdout",
     "output_type": "stream",
     "text": [
      "/datasets/oco-2/peaks-detected/result_for_oco2_1504.csv\t21241\t2020-05-05T17:13:30.884370\n",
      "/datasets/oco-2/soudings/oco2_1504.csv.xz\t75186100\t2020-05-03T07:48:47.793680\n"
     ]
    }
   ],
   "source": [
    "objects = datasets.get_container('oco2')\n",
    "for data in objects:\n",
    "    if 'oco2_1504' in data['name']:\n",
    "        print('{0}\\t{1}\\t{2}'.format(data['name'], data['bytes'], data['last_modified']))\n"
   ]
  },
  {
   "cell_type": "markdown",
   "metadata": {},
   "source": [
    "## Upload files"
   ]
  },
  {
   "cell_type": "code",
   "execution_count": 23,
   "metadata": {},
   "outputs": [
    {
     "name": "stderr",
     "output_type": "stream",
     "text": [
      "100%|██████████| 2/2 [00:00<00:00,  1.62it/s]\n"
     ]
    }
   ],
   "source": [
    "datasets.upload(mask='../*.md', prefix=\"/Trash/\",content_type='text/text')\n",
    "# datasets.(\"/media/data-nvme/dev/datasets/OCO2/csv/*.csv\", \"/datasets/oco-2/peaks-detected/\", 'text/csv')\n",
    "# datasets.(\"/media/data-nvme/dev/datasets/OCO2/csv/*.json\", \"/datasets/oco-2/peaks-detected-details/\", 'application/json')"
   ]
  },
  {
   "cell_type": "code",
   "execution_count": 24,
   "metadata": {},
   "outputs": [
    {
     "data": {
      "text/plain": [
       "['https://storage.gra.cloud.ovh.net/v1/AUTH_2aaacef8e88a4ca897bb93b984bd04dd/oco2//Trash/CONTRIBUTING.md',\n",
       " 'https://storage.gra.cloud.ovh.net/v1/AUTH_2aaacef8e88a4ca897bb93b984bd04dd/oco2//Trash/README.md']"
      ]
     },
     "execution_count": 24,
     "metadata": {},
     "output_type": "execute_result"
    }
   ],
   "source": [
    "datasets.get_files_urls('/Trash/')"
   ]
  },
  {
   "cell_type": "markdown",
   "metadata": {},
   "source": [
    "### Upload HTML\n",
    "Setting content type to 'text/html' allow the file to be display by browsers, without downloading."
   ]
  },
  {
   "cell_type": "code",
   "execution_count": 25,
   "metadata": {},
   "outputs": [],
   "source": [
    "#datasets.upload(\"chemin/peaks_and_sources.html\", \"/Trash/\", 'text/html')"
   ]
  },
  {
   "cell_type": "markdown",
   "metadata": {},
   "source": [
    "## Delete files"
   ]
  },
  {
   "cell_type": "code",
   "execution_count": 26,
   "metadata": {},
   "outputs": [
    {
     "name": "stdout",
     "output_type": "stream",
     "text": [
      "deleting /Trash/CONTRIBUTING.md\n",
      "deleting /Trash/README.md\n"
     ]
    }
   ],
   "source": [
    "datasets.delete_files(\"/Trash/\", dry_run=False)"
   ]
  },
  {
   "cell_type": "code",
   "execution_count": 27,
   "metadata": {},
   "outputs": [
    {
     "name": "stdout",
     "output_type": "stream",
     "text": [
      "Converted 00_core.ipynb.\n",
      "Converted swift_utils.ipynb.\n"
     ]
    }
   ],
   "source": [
    "from nbdev.export import *\n",
    "notebook2script()"
   ]
  }
 ],
 "metadata": {
  "kernelspec": {
   "display_name": "Python 3",
   "language": "python",
   "name": "python3"
  },
  "language_info": {
   "codemirror_mode": {
    "name": "ipython",
    "version": 3
   },
   "file_extension": ".py",
   "mimetype": "text/x-python",
   "name": "python",
   "nbconvert_exporter": "python",
   "pygments_lexer": "ipython3",
   "version": "3.7.6"
  }
 },
 "nbformat": 4,
 "nbformat_minor": 4
}
